{
 "cells": [
  {
   "cell_type": "code",
   "execution_count": 1,
   "id": "f1135953",
   "metadata": {},
   "outputs": [],
   "source": [
    "import zipfile\n",
    "\n",
    "with zipfile.ZipFile('archive (9).zip', 'r') as zip_ref:\n",
    "    zip_ref.extractall()"
   ]
  },
  {
   "cell_type": "code",
   "execution_count": 1,
   "id": "72a611e9",
   "metadata": {},
   "outputs": [
    {
     "name": "stderr",
     "output_type": "stream",
     "text": [
      "C:\\Users\\Tripti Mishra\\anaconda3\\lib\\site-packages\\scipy\\__init__.py:146: UserWarning: A NumPy version >=1.16.5 and <1.23.0 is required for this version of SciPy (detected version 1.25.2\n",
      "  warnings.warn(f\"A NumPy version >={np_minversion} and <{np_maxversion}\"\n"
     ]
    }
   ],
   "source": [
    "import numpy as np\n",
    "import pandas as pd\n",
    "import matplotlib.pyplot as plt\n",
    "from tensorflow.keras.preprocessing.image import ImageDataGenerator\n",
    "from tensorflow.keras.applications import VGG16\n",
    "from keras.layers import Dense, Flatten, Conv2D, MaxPooling2D, Dropout\n",
    "from tensorflow.keras.models import Sequential,Model\n",
    "import keras\n",
    "from tensorflow.keras.models import Model\n",
    "from tensorflow.keras.optimizers.legacy import SGD,Adam\n",
    "import tensorflow as tf\n",
    "import seaborn as sns\n",
    "import os\n",
    "import glob"
   ]
  },
  {
   "cell_type": "code",
   "execution_count": 30,
   "id": "40ff4ccb",
   "metadata": {},
   "outputs": [],
   "source": [
    "train_path = \"Brain Tumor dataset/Training\"\n",
    "test_path = \"Brain Tumor dataset/Testing\"\n",
    "\n",
    "gl_tr = \"Brain Tumor dataset/Training/glioma_tumor\"\n",
    "men_tr = \"Brain Tumor dataset/Training/meningioma_tumor\"\n",
    "no_tr = \"Brain Tumor dataset/Training/no_tumor\"\n",
    "pit_tr = \"Brain Tumor dataset/Training/pituitary_tumor\"\n",
    "\n",
    "\n",
    "gl_ts = \"Brain Tumor dataset/Testing/glioma_tumor\"\n",
    "men_ts = \"Brain Tumor dataset/Testing/meningioma_tumor\"\n",
    "no_ts = \"Brain Tumor dataset/Testing/no_tumor\"\n",
    "pit_ts = \"Brain Tumor dataset/Testing/pituitary_tumor\"\n",
    "\n",
    "gl_tr = os.listdir(gl_tr)\n",
    "men_tr = os.listdir(men_tr)\n",
    "no_tr = os.listdir(no_tr)\n",
    "pit_tr = os.listdir(pit_tr)\n",
    "\n",
    "gl_ts = os.listdir(gl_ts)\n",
    "men_ts = os.listdir(men_ts)\n",
    "no_ts = os.listdir(no_ts)\n",
    "pit_ts = os.listdir(pit_ts)"
   ]
  },
  {
   "cell_type": "code",
   "execution_count": 31,
   "id": "21cd85a3",
   "metadata": {},
   "outputs": [
    {
     "name": "stdout",
     "output_type": "stream",
     "text": [
      "826\n",
      "822\n",
      "395\n",
      "827\n"
     ]
    }
   ],
   "source": [
    "print(len(gl_tr))\n",
    "print(len(men_tr))\n",
    "print(len(no_tr))\n",
    "print(len(pit_tr))"
   ]
  },
  {
   "cell_type": "code",
   "execution_count": 32,
   "id": "42229da2",
   "metadata": {},
   "outputs": [
    {
     "name": "stdout",
     "output_type": "stream",
     "text": [
      "100\n",
      "115\n",
      "105\n",
      "74\n"
     ]
    }
   ],
   "source": [
    "print(len(gl_ts))\n",
    "print(len(men_ts))\n",
    "print(len(no_ts))\n",
    "print(len(pit_ts))"
   ]
  },
  {
   "cell_type": "code",
   "execution_count": 33,
   "id": "be185f8f",
   "metadata": {},
   "outputs": [],
   "source": [
    "gl_tr_label = [0]*len(gl_tr)\n",
    "men_tr_label = [1]*len(men_tr)\n",
    "no_tr_label = [2]*len(no_tr)\n",
    "pit_tr_label = [3]*len(pit_tr)\n",
    "\n",
    "gl_ts_label = [0]*len(gl_ts)\n",
    "men_ts_label = [1]*len(men_ts)\n",
    "no_ts_label = [2]*len(no_ts)\n",
    "pit_ts_label = [3]*len(pit_ts)"
   ]
  },
  {
   "cell_type": "code",
   "execution_count": 34,
   "id": "6503648c",
   "metadata": {},
   "outputs": [],
   "source": [
    "train_label = gl_tr_label + men_tr_label + no_tr_label + pit_tr_label\n",
    "test_label = gl_ts_label + men_ts_label + no_ts_label + pit_ts_label"
   ]
  },
  {
   "cell_type": "code",
   "execution_count": 35,
   "id": "ebbe8636",
   "metadata": {},
   "outputs": [],
   "source": [
    "class_labels = ['glioma_tumor', 'meningioma_tumor', 'no_tumor', 'pituitary_tumor']"
   ]
  },
  {
   "cell_type": "code",
   "execution_count": 36,
   "id": "5c237373",
   "metadata": {},
   "outputs": [
    {
     "data": {
      "text/plain": [
       "3264"
      ]
     },
     "execution_count": 36,
     "metadata": {},
     "output_type": "execute_result"
    }
   ],
   "source": [
    "label = train_label + test_label\n",
    "len(label)"
   ]
  },
  {
   "cell_type": "code",
   "execution_count": 37,
   "id": "195223f8",
   "metadata": {},
   "outputs": [],
   "source": [
    "train_datagen = ImageDataGenerator(featurewise_center=False,\n",
    "                                   rotation_range = 5, fill_mode=\"nearest\",\n",
    "                                   zoom_range=[1/1.0, 1/1.0], width_shift_range=0.0, height_shift_range=0.0, # occasionally out of range\n",
    "                                   horizontal_flip = True, vertical_flip=True,\n",
    "                                   brightness_range=[0.5, 1.3], channel_shift_range=20)"
   ]
  },
  {
   "cell_type": "code",
   "execution_count": 43,
   "id": "78a2d287",
   "metadata": {},
   "outputs": [
    {
     "name": "stdout",
     "output_type": "stream",
     "text": [
      "Found 2870 images belonging to 4 classes.\n",
      "Found 394 images belonging to 4 classes.\n",
      "Found 400 images belonging to 4 classes.\n"
     ]
    }
   ],
   "source": [
    "train_generator = train_datagen.flow_from_directory('Brain Tumor dataset/Training',\n",
    "                                                    batch_size=32,\n",
    "                                                    color_mode='grayscale',\n",
    "                                                    shuffle = False,\n",
    "                                                    target_size=(150,150),\n",
    "                                                    class_mode='categorical')\n",
    "\n",
    "validation_generator = train_datagen.flow_from_directory('Brain Tumor dataset/Testing',\n",
    "                                                         batch_size=32,\n",
    "                                                         color_mode='grayscale',\n",
    "                                                         shuffle = False,\n",
    "                                                         target_size=(150,150),\n",
    "                                                         class_mode='categorical')\n",
    "testing_generator = train_datagen.flow_from_directory(r'C:\\Users\\Tripti Mishra\\Downloads\\archive (9)\\Tes',\n",
    "                                                         batch_size=32,\n",
    "                                                         color_mode='grayscale',\n",
    "                                                         shuffle = False,\n",
    "                                                         target_size=(150,150),\n",
    "                                                         class_mode='categorical')"
   ]
  },
  {
   "cell_type": "code",
   "execution_count": 11,
   "id": "d51468a5",
   "metadata": {},
   "outputs": [
    {
     "name": "stdout",
     "output_type": "stream",
     "text": [
      "Model: \"sequential\"\n",
      "_________________________________________________________________\n",
      " Layer (type)                Output Shape              Param #   \n",
      "=================================================================\n",
      " conv2d (Conv2D)             (None, 148, 148, 32)      320       \n",
      "                                                                 \n",
      " max_pooling2d (MaxPooling2D  (None, 74, 74, 32)       0         \n",
      " )                                                               \n",
      "                                                                 \n",
      " dropout (Dropout)           (None, 74, 74, 32)        0         \n",
      "                                                                 \n",
      " max_pooling2d_1 (MaxPooling  (None, 37, 37, 32)       0         \n",
      " 2D)                                                             \n",
      "                                                                 \n",
      " dropout_1 (Dropout)         (None, 37, 37, 32)        0         \n",
      "                                                                 \n",
      " conv2d_1 (Conv2D)           (None, 35, 35, 64)        18496     \n",
      "                                                                 \n",
      " max_pooling2d_2 (MaxPooling  (None, 17, 17, 64)       0         \n",
      " 2D)                                                             \n",
      "                                                                 \n",
      " flatten (Flatten)           (None, 18496)             0         \n",
      "                                                                 \n",
      " dense (Dense)               (None, 256)               4735232   \n",
      "                                                                 \n",
      " dropout_2 (Dropout)         (None, 256)               0         \n",
      "                                                                 \n",
      " dense_1 (Dense)             (None, 4)                 1028      \n",
      "                                                                 \n",
      "=================================================================\n",
      "Total params: 4,755,076\n",
      "Trainable params: 4,755,076\n",
      "Non-trainable params: 0\n",
      "_________________________________________________________________\n"
     ]
    }
   ],
   "source": [
    "#if you want to use tranfer learning, skip this cell\n",
    "model = tf.keras.models.Sequential([\n",
    "    tf.keras.layers.Conv2D(32, (3,3), activation='relu', input_shape=(150, 150, 1)),\n",
    "    tf.keras.layers.MaxPooling2D(2,2),\n",
    "    tf.keras.layers.Dropout(0.2),\n",
    "    tf.keras.layers.MaxPooling2D(2,2),\n",
    "    tf.keras.layers.Dropout(0.2),\n",
    "    tf.keras.layers.Conv2D(64, (3,3), activation='relu'),\n",
    "    tf.keras.layers.MaxPooling2D(2,2),\n",
    "    \n",
    "    \n",
    "    tf.keras.layers.Flatten(),\n",
    "    tf.keras.layers.Dense(256, activation='relu'),\n",
    "    tf.keras.layers.Dropout(0.2),\n",
    "    tf.keras.layers.Dense(4, activation='softmax')\n",
    "])\n",
    "\n",
    "model.compile(optimizer='adam',\n",
    "              loss='categorical_crossentropy',\n",
    "              metrics=['accuracy'])\n",
    "\n",
    "model.summary()"
   ]
  },
  {
   "cell_type": "code",
   "execution_count": 12,
   "id": "c52f592b",
   "metadata": {},
   "outputs": [
    {
     "name": "stdout",
     "output_type": "stream",
     "text": [
      "Epoch 1/100\n",
      "90/90 [==============================] - 83s 900ms/step - loss: 58.2559 - accuracy: 0.3871 - val_loss: 1.3147 - val_accuracy: 0.4202\n",
      "Epoch 2/100\n",
      "90/90 [==============================] - 79s 882ms/step - loss: 1.2641 - accuracy: 0.4481 - val_loss: 1.3128 - val_accuracy: 0.4300\n",
      "Epoch 3/100\n",
      "90/90 [==============================] - 81s 897ms/step - loss: 1.2223 - accuracy: 0.4690 - val_loss: 1.3064 - val_accuracy: 0.4373\n",
      "Epoch 4/100\n",
      "90/90 [==============================] - 82s 910ms/step - loss: 1.1755 - accuracy: 0.4606 - val_loss: 1.2838 - val_accuracy: 0.4390\n",
      "Epoch 5/100\n",
      "90/90 [==============================] - 78s 873ms/step - loss: 1.1164 - accuracy: 0.5132 - val_loss: 1.2713 - val_accuracy: 0.4491\n",
      "Epoch 6/100\n",
      "90/90 [==============================] - 78s 866ms/step - loss: 1.1179 - accuracy: 0.5059 - val_loss: 1.2647 - val_accuracy: 0.4582\n",
      "Epoch 7/100\n",
      "90/90 [==============================] - 81s 906ms/step - loss: 1.0695 - accuracy: 0.5254 - val_loss: 1.2417 - val_accuracy: 0.4516\n",
      "Epoch 8/100\n",
      "90/90 [==============================] - 1234s 14s/step - loss: 1.0611 - accuracy: 0.5411 - val_loss: 1.1779 - val_accuracy: 0.4986\n",
      "Epoch 9/100\n",
      "90/90 [==============================] - 69s 766ms/step - loss: 1.0144 - accuracy: 0.5547 - val_loss: 1.1855 - val_accuracy: 0.5003\n",
      "Epoch 10/100\n",
      "90/90 [==============================] - 79s 876ms/step - loss: 1.0179 - accuracy: 0.5561 - val_loss: 1.1508 - val_accuracy: 0.5115\n",
      "Epoch 11/100\n",
      "90/90 [==============================] - 78s 864ms/step - loss: 1.0141 - accuracy: 0.5467 - val_loss: 1.1182 - val_accuracy: 0.5331\n",
      "Epoch 12/100\n",
      "90/90 [==============================] - 79s 878ms/step - loss: 0.9483 - accuracy: 0.6059 - val_loss: 1.0917 - val_accuracy: 0.5261\n",
      "Epoch 13/100\n",
      "90/90 [==============================] - 78s 868ms/step - loss: 0.9507 - accuracy: 0.5854 - val_loss: 1.0264 - val_accuracy: 0.5892\n",
      "Epoch 14/100\n",
      "90/90 [==============================] - 78s 871ms/step - loss: 0.8893 - accuracy: 0.6202 - val_loss: 1.0281 - val_accuracy: 0.5833\n",
      "Epoch 15/100\n",
      "90/90 [==============================] - 77s 861ms/step - loss: 0.9315 - accuracy: 0.6028 - val_loss: 0.9462 - val_accuracy: 0.6028\n",
      "Epoch 16/100\n",
      "90/90 [==============================] - 78s 871ms/step - loss: 0.8675 - accuracy: 0.6223 - val_loss: 0.9611 - val_accuracy: 0.6331\n",
      "Epoch 17/100\n",
      "90/90 [==============================] - 77s 857ms/step - loss: 0.8626 - accuracy: 0.6300 - val_loss: 0.9072 - val_accuracy: 0.6523\n",
      "Epoch 18/100\n",
      "90/90 [==============================] - 78s 866ms/step - loss: 0.8171 - accuracy: 0.6620 - val_loss: 0.8386 - val_accuracy: 0.6540\n",
      "Epoch 19/100\n",
      "90/90 [==============================] - 78s 867ms/step - loss: 0.8423 - accuracy: 0.6338 - val_loss: 0.8793 - val_accuracy: 0.6279\n",
      "Epoch 20/100\n",
      "90/90 [==============================] - 78s 866ms/step - loss: 0.7893 - accuracy: 0.6502 - val_loss: 0.8207 - val_accuracy: 0.6878\n",
      "Epoch 21/100\n",
      "90/90 [==============================] - 78s 863ms/step - loss: 0.7857 - accuracy: 0.6728 - val_loss: 0.8259 - val_accuracy: 0.6460\n",
      "Epoch 22/100\n",
      "90/90 [==============================] - 83s 928ms/step - loss: 0.7971 - accuracy: 0.6516 - val_loss: 0.7913 - val_accuracy: 0.7084\n",
      "Epoch 23/100\n",
      "90/90 [==============================] - 78s 871ms/step - loss: 0.7787 - accuracy: 0.6575 - val_loss: 0.7511 - val_accuracy: 0.7028\n",
      "Epoch 24/100\n",
      "90/90 [==============================] - 77s 856ms/step - loss: 0.7335 - accuracy: 0.6742 - val_loss: 0.7768 - val_accuracy: 0.6909\n",
      "Epoch 25/100\n",
      "90/90 [==============================] - 79s 880ms/step - loss: 0.7004 - accuracy: 0.6913 - val_loss: 0.7197 - val_accuracy: 0.7125\n",
      "Epoch 26/100\n",
      "90/90 [==============================] - 83s 920ms/step - loss: 0.7507 - accuracy: 0.6686 - val_loss: 0.7385 - val_accuracy: 0.7146\n",
      "Epoch 27/100\n",
      "90/90 [==============================] - 82s 911ms/step - loss: 0.7235 - accuracy: 0.6941 - val_loss: 0.7115 - val_accuracy: 0.7101\n",
      "Epoch 28/100\n",
      "90/90 [==============================] - 86s 957ms/step - loss: 0.6569 - accuracy: 0.7213 - val_loss: 0.6877 - val_accuracy: 0.7279\n",
      "Epoch 29/100\n",
      "90/90 [==============================] - 83s 920ms/step - loss: 0.6446 - accuracy: 0.7251 - val_loss: 0.5948 - val_accuracy: 0.7697\n",
      "Epoch 30/100\n",
      "90/90 [==============================] - 78s 873ms/step - loss: 0.6626 - accuracy: 0.7094 - val_loss: 0.6467 - val_accuracy: 0.7443\n",
      "Epoch 31/100\n",
      "90/90 [==============================] - 80s 895ms/step - loss: 0.6458 - accuracy: 0.7348 - val_loss: 0.6699 - val_accuracy: 0.7000\n",
      "Epoch 32/100\n",
      "90/90 [==============================] - 80s 886ms/step - loss: 0.6179 - accuracy: 0.7387 - val_loss: 0.6204 - val_accuracy: 0.7568\n",
      "Epoch 33/100\n",
      "90/90 [==============================] - 79s 880ms/step - loss: 0.5964 - accuracy: 0.7449 - val_loss: 0.5948 - val_accuracy: 0.7512\n",
      "Epoch 34/100\n",
      "90/90 [==============================] - 78s 867ms/step - loss: 0.5917 - accuracy: 0.7544 - val_loss: 0.5598 - val_accuracy: 0.7871\n",
      "Epoch 35/100\n",
      "90/90 [==============================] - 78s 863ms/step - loss: 0.6084 - accuracy: 0.7404 - val_loss: 0.6201 - val_accuracy: 0.7652\n",
      "Epoch 36/100\n",
      "90/90 [==============================] - 77s 860ms/step - loss: 0.5646 - accuracy: 0.7530 - val_loss: 0.5034 - val_accuracy: 0.7979\n",
      "Epoch 37/100\n",
      "90/90 [==============================] - 79s 876ms/step - loss: 0.5815 - accuracy: 0.7443 - val_loss: 0.4981 - val_accuracy: 0.8084\n",
      "Epoch 38/100\n",
      "90/90 [==============================] - 78s 869ms/step - loss: 0.5473 - accuracy: 0.7585 - val_loss: 0.4305 - val_accuracy: 0.8366\n",
      "Epoch 39/100\n",
      "90/90 [==============================] - 78s 872ms/step - loss: 0.4932 - accuracy: 0.7857 - val_loss: 0.4796 - val_accuracy: 0.8136\n",
      "Epoch 40/100\n",
      "90/90 [==============================] - 80s 887ms/step - loss: 0.5118 - accuracy: 0.7787 - val_loss: 0.4278 - val_accuracy: 0.8331\n",
      "Epoch 41/100\n",
      "90/90 [==============================] - 77s 863ms/step - loss: 0.4850 - accuracy: 0.7920 - val_loss: 0.4744 - val_accuracy: 0.8153\n",
      "Epoch 42/100\n",
      "90/90 [==============================] - 78s 864ms/step - loss: 0.4644 - accuracy: 0.8188 - val_loss: 0.4441 - val_accuracy: 0.8143\n",
      "Epoch 43/100\n",
      "90/90 [==============================] - 76s 848ms/step - loss: 0.4793 - accuracy: 0.7955 - val_loss: 0.4803 - val_accuracy: 0.7895\n",
      "Epoch 44/100\n",
      "90/90 [==============================] - 78s 870ms/step - loss: 0.4605 - accuracy: 0.8031 - val_loss: 0.4150 - val_accuracy: 0.8167\n",
      "Epoch 45/100\n",
      "90/90 [==============================] - 78s 872ms/step - loss: 0.4472 - accuracy: 0.8129 - val_loss: 0.3687 - val_accuracy: 0.8561\n",
      "Epoch 46/100\n",
      "90/90 [==============================] - 79s 874ms/step - loss: 0.4504 - accuracy: 0.8129 - val_loss: 0.3730 - val_accuracy: 0.8652\n",
      "Epoch 47/100\n",
      "90/90 [==============================] - 84s 932ms/step - loss: 0.4301 - accuracy: 0.8230 - val_loss: 0.3817 - val_accuracy: 0.8540\n",
      "Epoch 48/100\n",
      "90/90 [==============================] - 77s 856ms/step - loss: 0.4166 - accuracy: 0.8279 - val_loss: 0.4542 - val_accuracy: 0.8115\n",
      "Epoch 49/100\n",
      "90/90 [==============================] - 82s 913ms/step - loss: 0.4436 - accuracy: 0.8192 - val_loss: 0.3278 - val_accuracy: 0.8683\n",
      "Epoch 50/100\n",
      "90/90 [==============================] - 78s 871ms/step - loss: 0.3586 - accuracy: 0.8484 - val_loss: 0.2694 - val_accuracy: 0.9010\n",
      "Epoch 51/100\n",
      "90/90 [==============================] - 78s 868ms/step - loss: 0.3678 - accuracy: 0.8474 - val_loss: 0.3222 - val_accuracy: 0.8774\n",
      "Epoch 52/100\n",
      "90/90 [==============================] - 78s 865ms/step - loss: 0.3605 - accuracy: 0.8509 - val_loss: 0.2781 - val_accuracy: 0.8958\n",
      "Epoch 53/100\n",
      "90/90 [==============================] - 77s 853ms/step - loss: 0.3750 - accuracy: 0.8564 - val_loss: 0.3146 - val_accuracy: 0.8721\n",
      "Epoch 54/100\n",
      "90/90 [==============================] - 78s 870ms/step - loss: 0.3764 - accuracy: 0.8491 - val_loss: 0.2481 - val_accuracy: 0.9077\n",
      "Epoch 55/100\n",
      "90/90 [==============================] - 79s 874ms/step - loss: 0.3390 - accuracy: 0.8627 - val_loss: 0.2507 - val_accuracy: 0.9174\n",
      "Epoch 56/100\n",
      "90/90 [==============================] - 78s 866ms/step - loss: 0.3138 - accuracy: 0.8787 - val_loss: 0.2449 - val_accuracy: 0.9251\n",
      "Epoch 57/100\n",
      "90/90 [==============================] - 78s 868ms/step - loss: 0.2935 - accuracy: 0.8829 - val_loss: 0.2890 - val_accuracy: 0.8941\n",
      "Epoch 58/100\n",
      "90/90 [==============================] - 76s 843ms/step - loss: 0.2884 - accuracy: 0.8885 - val_loss: 0.2465 - val_accuracy: 0.9132\n",
      "Epoch 59/100\n",
      "90/90 [==============================] - 75s 836ms/step - loss: 0.3178 - accuracy: 0.8725 - val_loss: 0.2046 - val_accuracy: 0.9307\n",
      "Epoch 60/100\n",
      "90/90 [==============================] - 75s 834ms/step - loss: 0.3120 - accuracy: 0.8763 - val_loss: 0.2114 - val_accuracy: 0.9251\n",
      "Epoch 61/100\n",
      "90/90 [==============================] - 75s 836ms/step - loss: 0.3103 - accuracy: 0.8735 - val_loss: 0.2593 - val_accuracy: 0.9066\n",
      "Epoch 62/100\n",
      "90/90 [==============================] - 75s 838ms/step - loss: 0.3043 - accuracy: 0.8909 - val_loss: 0.1902 - val_accuracy: 0.9390\n",
      "Epoch 63/100\n",
      "90/90 [==============================] - 75s 839ms/step - loss: 0.2913 - accuracy: 0.8861 - val_loss: 0.2188 - val_accuracy: 0.9275\n",
      "Epoch 64/100\n",
      "90/90 [==============================] - 75s 834ms/step - loss: 0.2704 - accuracy: 0.8864 - val_loss: 0.2187 - val_accuracy: 0.9195\n",
      "Epoch 65/100\n",
      "90/90 [==============================] - 75s 839ms/step - loss: 0.2576 - accuracy: 0.9007 - val_loss: 0.1510 - val_accuracy: 0.9620\n",
      "Epoch 66/100\n",
      "90/90 [==============================] - 76s 847ms/step - loss: 0.2094 - accuracy: 0.9185 - val_loss: 0.1383 - val_accuracy: 0.9568\n",
      "Epoch 67/100\n",
      "90/90 [==============================] - 395s 4s/step - loss: 0.2410 - accuracy: 0.9077 - val_loss: 0.1395 - val_accuracy: 0.9624\n",
      "Epoch 68/100\n",
      "90/90 [==============================] - 65s 728ms/step - loss: 0.2250 - accuracy: 0.9098 - val_loss: 0.1440 - val_accuracy: 0.9575\n",
      "Epoch 69/100\n",
      "90/90 [==============================] - 79s 882ms/step - loss: 0.2386 - accuracy: 0.9101 - val_loss: 0.1539 - val_accuracy: 0.9505\n",
      "Epoch 70/100\n",
      "90/90 [==============================] - 80s 887ms/step - loss: 0.2364 - accuracy: 0.9080 - val_loss: 0.1572 - val_accuracy: 0.9512\n",
      "Epoch 71/100\n",
      "90/90 [==============================] - 79s 874ms/step - loss: 0.2174 - accuracy: 0.9178 - val_loss: 0.1316 - val_accuracy: 0.9554\n",
      "Epoch 72/100\n",
      "90/90 [==============================] - 78s 866ms/step - loss: 0.2548 - accuracy: 0.9091 - val_loss: 0.1478 - val_accuracy: 0.9477\n",
      "Epoch 73/100\n",
      "90/90 [==============================] - 79s 878ms/step - loss: 0.2584 - accuracy: 0.9028 - val_loss: 0.1759 - val_accuracy: 0.9373\n",
      "Epoch 74/100\n",
      "90/90 [==============================] - 77s 854ms/step - loss: 0.2433 - accuracy: 0.9108 - val_loss: 0.1466 - val_accuracy: 0.9533\n",
      "Epoch 75/100\n",
      "90/90 [==============================] - 77s 854ms/step - loss: 0.2349 - accuracy: 0.9160 - val_loss: 0.1543 - val_accuracy: 0.9592\n",
      "Epoch 76/100\n",
      "90/90 [==============================] - 77s 852ms/step - loss: 0.2369 - accuracy: 0.9167 - val_loss: 0.1667 - val_accuracy: 0.9474\n",
      "Epoch 77/100\n",
      "90/90 [==============================] - 78s 873ms/step - loss: 0.2223 - accuracy: 0.9192 - val_loss: 0.1176 - val_accuracy: 0.9704\n",
      "Epoch 78/100\n",
      "90/90 [==============================] - 77s 852ms/step - loss: 0.1923 - accuracy: 0.9310 - val_loss: 0.1367 - val_accuracy: 0.9519\n",
      "Epoch 79/100\n",
      "90/90 [==============================] - 79s 876ms/step - loss: 0.2378 - accuracy: 0.9160 - val_loss: 0.1429 - val_accuracy: 0.9561\n",
      "Epoch 80/100\n",
      "90/90 [==============================] - 79s 874ms/step - loss: 0.1859 - accuracy: 0.9341 - val_loss: 0.0935 - val_accuracy: 0.9728\n",
      "Epoch 81/100\n",
      "90/90 [==============================] - 76s 845ms/step - loss: 0.1817 - accuracy: 0.9373 - val_loss: 0.1109 - val_accuracy: 0.9693\n",
      "Epoch 82/100\n",
      "90/90 [==============================] - 77s 853ms/step - loss: 0.1831 - accuracy: 0.9355 - val_loss: 0.1023 - val_accuracy: 0.9735\n",
      "Epoch 83/100\n",
      "90/90 [==============================] - 76s 842ms/step - loss: 0.1888 - accuracy: 0.9334 - val_loss: 0.1251 - val_accuracy: 0.9659\n",
      "Epoch 84/100\n",
      "90/90 [==============================] - 75s 834ms/step - loss: 0.1592 - accuracy: 0.9408 - val_loss: 0.1114 - val_accuracy: 0.9655\n",
      "Epoch 85/100\n",
      "90/90 [==============================] - 75s 836ms/step - loss: 0.1875 - accuracy: 0.9362 - val_loss: 0.1019 - val_accuracy: 0.9655\n",
      "Epoch 86/100\n",
      "90/90 [==============================] - 75s 832ms/step - loss: 0.1733 - accuracy: 0.9387 - val_loss: 0.1303 - val_accuracy: 0.9495\n",
      "Epoch 87/100\n",
      "90/90 [==============================] - 75s 838ms/step - loss: 0.2017 - accuracy: 0.9240 - val_loss: 0.1156 - val_accuracy: 0.9585\n",
      "Epoch 88/100\n",
      "90/90 [==============================] - 75s 835ms/step - loss: 0.2127 - accuracy: 0.9237 - val_loss: 0.1036 - val_accuracy: 0.9714\n",
      "Epoch 89/100\n",
      "90/90 [==============================] - 75s 834ms/step - loss: 0.1484 - accuracy: 0.9460 - val_loss: 0.0856 - val_accuracy: 0.9777\n",
      "Epoch 90/100\n",
      "90/90 [==============================] - 75s 836ms/step - loss: 0.1624 - accuracy: 0.9484 - val_loss: 0.0867 - val_accuracy: 0.9735\n",
      "Epoch 91/100\n",
      "90/90 [==============================] - 75s 833ms/step - loss: 0.1898 - accuracy: 0.9345 - val_loss: 0.0661 - val_accuracy: 0.9826\n",
      "Epoch 92/100\n",
      "90/90 [==============================] - 75s 832ms/step - loss: 0.1617 - accuracy: 0.9436 - val_loss: 0.0965 - val_accuracy: 0.9753\n",
      "Epoch 93/100\n",
      "90/90 [==============================] - 75s 833ms/step - loss: 0.1546 - accuracy: 0.9443 - val_loss: 0.0727 - val_accuracy: 0.9739\n",
      "Epoch 94/100\n",
      "90/90 [==============================] - 75s 836ms/step - loss: 0.2592 - accuracy: 0.9213 - val_loss: 0.2011 - val_accuracy: 0.9258\n",
      "Epoch 95/100\n",
      "90/90 [==============================] - 75s 831ms/step - loss: 0.2260 - accuracy: 0.9164 - val_loss: 0.0914 - val_accuracy: 0.9732\n",
      "Epoch 96/100\n",
      "90/90 [==============================] - 75s 833ms/step - loss: 0.1357 - accuracy: 0.9477 - val_loss: 0.0840 - val_accuracy: 0.9780\n",
      "Epoch 97/100\n",
      "90/90 [==============================] - 76s 845ms/step - loss: 0.1558 - accuracy: 0.9436 - val_loss: 0.0623 - val_accuracy: 0.9787\n",
      "Epoch 98/100\n",
      "90/90 [==============================] - 75s 836ms/step - loss: 0.1624 - accuracy: 0.9422 - val_loss: 0.0715 - val_accuracy: 0.9819\n",
      "Epoch 99/100\n",
      "90/90 [==============================] - 74s 822ms/step - loss: 0.1412 - accuracy: 0.9512 - val_loss: 0.0796 - val_accuracy: 0.9756\n",
      "Epoch 100/100\n",
      "90/90 [==============================] - 76s 842ms/step - loss: 0.1537 - accuracy: 0.9439 - val_loss: 0.1154 - val_accuracy: 0.9589\n"
     ]
    }
   ],
   "source": [
    "history = model.fit(\n",
    "    train_generator,\n",
    "   \n",
    "    epochs=100,\n",
    "    verbose=1,\n",
    "   \n",
    "    validation_data=validation_generator,\n",
    "    \n",
    ")"
   ]
  },
  {
   "cell_type": "code",
   "execution_count": 40,
   "id": "b7705a4a",
   "metadata": {},
   "outputs": [
    {
     "data": {
      "text/plain": [
       "<Figure size 432x288 with 0 Axes>"
      ]
     },
     "execution_count": 40,
     "metadata": {},
     "output_type": "execute_result"
    },
    {
     "data": {
      "image/png": "[encoded data removed]",
      "text/plain": [
       "<Figure size 432x288 with 1 Axes>"
      ]
     },
     "metadata": {
      "needs_background": "light"
     },
     "output_type": "display_data"
    },
    {
     "data": {
      "image/png": "[encoded data removed]",
      "text/plain": [
       "<Figure size 432x288 with 1 Axes>"
      ]
     },
     "metadata": {
      "needs_background": "light"
     },
     "output_type": "display_data"
    },
    {
     "data": {
      "text/plain": [
       "<Figure size 432x288 with 0 Axes>"
      ]
     },
     "metadata": {},
     "output_type": "display_data"
    }
   ],
   "source": [
    "acc = history.history['accuracy']\n",
    "val_acc = history.history['val_accuracy']\n",
    "loss = history.history['loss']\n",
    "val_loss = history.history['val_loss']\n",
    "\n",
    "epochs = range(len(acc))\n",
    "\n",
    "plt.plot(epochs, acc, 'r')\n",
    "plt.plot(epochs, val_acc, 'b')\n",
    "plt.title('Training and Validation Accuracy')\n",
    "plt.ylabel('accuracy')\n",
    "plt.xlabel('epoch')\n",
    "plt.legend(['train', 'val'], loc='upper left')\n",
    "plt.figure()\n",
    "\n",
    "plt.plot(epochs, loss, 'r')\n",
    "plt.plot(epochs, val_loss, 'b')\n",
    "plt.ylabel('loss')\n",
    "plt.xlabel('epoch')\n",
    "plt.legend(['train', 'val'], loc='upper left')\n",
    "plt.title('Training and Validaion Loss')\n",
    "plt.figure()"
   ]
  },
  {
   "cell_type": "code",
   "execution_count": 44,
   "id": "e127695b",
   "metadata": {},
   "outputs": [
    {
     "name": "stdout",
     "output_type": "stream",
     "text": [
      "13/13 [==============================] - 5s 333ms/step\n"
     ]
    }
   ],
   "source": [
    "predictions = model.predict(testing_generator)"
   ]
  },
  {
   "cell_type": "code",
   "execution_count": 45,
   "id": "a70b45e5",
   "metadata": {},
   "outputs": [
    {
     "name": "stderr",
     "output_type": "stream",
     "text": [
      "C:\\Users\\Tripti Mishra\\AppData\\Local\\Temp\\ipykernel_13616\\4007978908.py:1: UserWarning: `Model.evaluate_generator` is deprecated and will be removed in a future version. Please use `Model.evaluate`, which supports generators.\n",
      "  model.evaluate_generator(teting_generator)\n"
     ]
    },
    {
     "data": {
      "text/plain": [
       "[0.3788685202598572, 0.9649999737739563]"
      ]
     },
     "execution_count": 45,
     "metadata": {},
     "output_type": "execute_result"
    }
   ],
   "source": [
    "model.evaluate_generator(teting_generator)"
   ]
  },
  {
   "cell_type": "code",
   "execution_count": 46,
   "id": "32a4ff69",
   "metadata": {},
   "outputs": [
    {
     "data": {
      "text/plain": [
       "array([0, 0, 0, 0, 0, 0, 0, 0, 0, 0, 0, 0, 0, 0, 0, 0, 0, 0, 0, 0, 0, 0,\n",
       "       0, 0, 0, 0, 0, 0, 0, 0, 0, 0, 0, 0, 0, 0, 0, 0, 0, 0, 0, 0, 0, 0,\n",
       "       0, 0, 0, 0, 0, 0, 0, 0, 0, 0, 0, 0, 0, 0, 0, 0, 3, 0, 0, 0, 0, 0,\n",
       "       0, 0, 0, 0, 0, 0, 0, 0, 0, 0, 0, 0, 0, 0, 0, 0, 0, 0, 0, 0, 0, 0,\n",
       "       3, 0, 0, 0, 0, 0, 0, 0, 0, 2, 2, 2, 0, 1, 1, 1, 1, 1, 1, 0, 1, 1,\n",
       "       1, 1, 1, 1, 1, 1, 1, 1, 1, 1, 1, 1, 1, 1, 1, 1, 1, 1, 2, 1, 1, 1,\n",
       "       1, 1, 0, 1, 1, 1, 1, 1, 1, 1, 1, 1, 1, 1, 1, 1, 1, 1, 1, 1, 1, 1,\n",
       "       1, 1, 1, 1, 1, 1, 1, 0, 1, 1, 1, 1, 0, 1, 1, 1, 1, 1, 1, 1, 1, 1,\n",
       "       1, 1, 1, 1, 1, 1, 1, 1, 2, 1, 1, 1, 0, 1, 1, 1, 1, 1, 1, 1, 1, 1,\n",
       "       1, 1, 2, 2, 2, 2, 2, 2, 2, 2, 2, 2, 2, 2, 2, 2, 2, 2, 2, 2, 2, 2,\n",
       "       0, 2, 2, 2, 2, 2, 2, 2, 2, 2, 2, 2, 2, 2, 2, 2, 2, 2, 2, 2, 2, 2,\n",
       "       2, 2, 2, 2, 2, 2, 2, 2, 2, 2, 2, 2, 2, 2, 2, 2, 2, 2, 2, 2, 2, 2,\n",
       "       2, 2, 2, 2, 2, 2, 2, 2, 2, 2, 2, 2, 2, 3, 2, 2, 2, 2, 2, 2, 2, 2,\n",
       "       2, 2, 2, 2, 2, 2, 2, 2, 2, 2, 2, 2, 2, 3, 1, 3, 3, 3, 3, 3, 3, 3,\n",
       "       3, 3, 3, 3, 3, 3, 3, 3, 3, 3, 3, 3, 3, 3, 3, 3, 3, 3, 3, 3, 3, 3,\n",
       "       3, 3, 3, 3, 3, 3, 3, 3, 3, 3, 3, 3, 3, 3, 3, 3, 3, 3, 3, 3, 3, 3,\n",
       "       3, 3, 3, 3, 3, 3, 3, 3, 3, 3, 3, 3, 3, 3, 3, 3, 3, 3, 3, 3, 3, 3,\n",
       "       3, 3, 3, 3, 3, 3, 3, 3, 3, 3, 3, 3, 3, 3, 3, 3, 3, 3, 3, 3, 3, 3,\n",
       "       3, 3, 3, 3], dtype=int64)"
      ]
     },
     "execution_count": 46,
     "metadata": {},
     "output_type": "execute_result"
    }
   ],
   "source": [
    "y_pred = np.argmax(predictions, axis = 1)\n",
    "y_pred"
   ]
  },
  {
   "cell_type": "code",
   "execution_count": 47,
   "id": "7fd8af27",
   "metadata": {},
   "outputs": [],
   "source": [
    "y_true = teting_generator.classes"
   ]
  },
  {
   "cell_type": "code",
   "execution_count": 48,
   "id": "b56c73a3",
   "metadata": {},
   "outputs": [
    {
     "data": {
      "text/plain": [
       "array([[95,  0,  3,  2],\n",
       "       [ 6, 92,  2,  0],\n",
       "       [ 1,  0, 97,  2],\n",
       "       [ 0,  1,  0, 99]], dtype=int64)"
      ]
     },
     "execution_count": 48,
     "metadata": {},
     "output_type": "execute_result"
    }
   ],
   "source": [
    "from sklearn.metrics import confusion_matrix\n",
    "\n",
    "cm = confusion_matrix(y_true, y_pred)\n",
    "cm"
   ]
  },
  {
   "cell_type": "code",
   "execution_count": 49,
   "id": "78a06709",
   "metadata": {},
   "outputs": [
    {
     "name": "stdout",
     "output_type": "stream",
     "text": [
      "              precision    recall  f1-score   support\n",
      "\n",
      "           0       0.93      0.95      0.94       100\n",
      "           1       0.99      0.92      0.95       100\n",
      "           2       0.95      0.97      0.96       100\n",
      "           3       0.96      0.99      0.98       100\n",
      "\n",
      "    accuracy                           0.96       400\n",
      "   macro avg       0.96      0.96      0.96       400\n",
      "weighted avg       0.96      0.96      0.96       400\n",
      "\n"
     ]
    }
   ],
   "source": [
    "from sklearn.metrics import classification_report\n",
    "\n",
    "report = classification_report(y_true, y_pred)\n",
    "print(report)"
   ]
  },
  {
   "cell_type": "code",
   "execution_count": 50,
   "id": "29bd9da7",
   "metadata": {},
   "outputs": [],
   "source": [
    "diseases_labels = []\n",
    "\n",
    "for key, value in train_generator.class_indices.items():\n",
    " diseases_labels.append(key)"
   ]
  },
  {
   "cell_type": "code",
   "execution_count": 51,
   "id": "2d1f0b9d",
   "metadata": {},
   "outputs": [],
   "source": [
    "def evaluate(actual, pred):\n",
    "  pre = []\n",
    "  for i in pred:\n",
    "    pre.append(np.argmax(i))\n",
    "\n",
    "  accuracy = (pre == actual).sum() / actual.shape[0]\n",
    "  print(f'Accuracy: {accuracy}')\n",
    "\n",
    " \n",
    "\n",
    "  fig, ax = plt.subplots(figsize=(10,8))\n",
    "  conf_mat = confusion_matrix(actual, pre)\n",
    "  sns.heatmap(conf_mat, annot=True, fmt='.0f', cmap=\"YlGnBu\", xticklabels=diseases_labels, yticklabels=diseases_labels).set_title('Confusion Matrix Heat map')\n",
    "  plt.show()"
   ]
  },
  {
   "cell_type": "code",
   "execution_count": 54,
   "id": "3c578a59",
   "metadata": {},
   "outputs": [
    {
     "name": "stdout",
     "output_type": "stream",
     "text": [
      "Accuracy: 0.9575\n"
     ]
    },
    {
     "data": {
      "image/png": "[encoded data removed]",
      "text/plain": [
       "<Figure size 720x576 with 2 Axes>"
      ]
     },
     "metadata": {
      "needs_background": "light"
     },
     "output_type": "display_data"
    }
   ],
   "source": [
    "evaluate(testing_generator.classes,predictions)"
   ]
  },
  {
   "cell_type": "code",
   "execution_count": 40,
   "id": "c6284d97",
   "metadata": {},
   "outputs": [
    {
     "data": {
      "image/png": "[encoded data removed]",
      "text/plain": [
       "<Figure size 432x360 with 1 Axes>"
      ]
     },
     "metadata": {
      "needs_background": "light"
     },
     "output_type": "display_data"
    }
   ],
   "source": [
    "class_names = ['glioma_tumor', 'meningioma_tumor', 'no_tumor', 'pituitary_tumor']\n",
    "\n",
    "glioma_tumor = len(os.listdir('Brain Tumor dataset/Training/glioma_tumor'))\n",
    "meningioma_tumor = len(os.listdir('Brain Tumor dataset/Training/meningioma_tumor'))\n",
    "no_tumor = len(os.listdir('Brain Tumor dataset/Training/no_tumor'))\n",
    "pituitary_tumor = len(os.listdir('Brain Tumor dataset/Training/pituitary_tumor'))\n",
    "images = [glioma_tumor, meningioma_tumor, no_tumor, pituitary_tumor]\n",
    "\n",
    "plt.figure(figsize=(6,5))\n",
    "sns.barplot(x= class_names, y= images, palette= sns.cubehelix_palette(start=2.8, rot=-.4))\n",
    "plt.title('Frequency of Each Class in the Training Dataset', fontsize=14)\n",
    "plt.xlabel('Class names', fontsize=12)\n",
    "plt.ylabel('Count', fontsize=12)\n",
    "plt.xticks(range(len(images)))\n",
    "plt.show()"
   ]
  },
  {
   "cell_type": "code",
   "execution_count": 39,
   "id": "30c76edd",
   "metadata": {},
   "outputs": [
    {
     "data": {
      "image/png": "[encoded data removed]",
      "text/plain": [
       "<Figure size 432x360 with 1 Axes>"
      ]
     },
     "metadata": {
      "needs_background": "light"
     },
     "output_type": "display_data"
    }
   ],
   "source": [
    "class_names = ['glioma_tumor', 'meningioma_tumor', 'no_tumor', 'pituitary_tumor']\n",
    "\n",
    "glioma_tumor = len(os.listdir('Brain Tumor dataset/Testing/glioma_tumor'))\n",
    "meningioma_tumor = len(os.listdir('Brain Tumor dataset/Testing/meningioma_tumor'))\n",
    "no_tumor = len(os.listdir('Brain Tumor dataset/Testing/no_tumor'))\n",
    "pituitary_tumor = len(os.listdir('Brain Tumor dataset/Testing/pituitary_tumor'))\n",
    "images = [glioma_tumor, meningioma_tumor, no_tumor, pituitary_tumor]\n",
    "\n",
    "plt.figure(figsize=(6,5))\n",
    "sns.barplot(x= class_names, y= images, palette= sns.cubehelix_palette(start=2.8, rot=-.4))\n",
    "plt.title('Frequency of Each Class in the Testing Dataset', fontsize=14)\n",
    "plt.xlabel('Class names', fontsize=12)\n",
    "plt.ylabel('Count', fontsize=12)\n",
    "plt.xticks(range(len(images)))\n",
    "plt.show()"
   ]
  },
  {
   "cell_type": "code",
   "execution_count": null,
   "id": "b2154a5a",
   "metadata": {},
   "outputs": [],
   "source": []
  }
 ],
 "metadata": {
  "kernelspec": {
   "display_name": "Python 3 (ipykernel)",
   "language": "python",
   "name": "python3"
  },
  "language_info": {
   "codemirror_mode": {
    "name": "ipython",
    "version": 3
   },
   "file_extension": ".py",
   "mimetype": "text/x-python",
   "name": "python",
   "nbconvert_exporter": "python",
   "pygments_lexer": "ipython3",
   "version": "3.9.12"
  }
 },
 "nbformat": 4,
 "nbformat_minor": 5
}
